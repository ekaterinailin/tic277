{
 "cells": [
  {
   "cell_type": "code",
   "execution_count": 14,
   "metadata": {},
   "outputs": [],
   "source": [
    "from astropy.io import fits\n",
    "import numpy as np\n",
    "import matplotlib.pyplot as plt\n",
    "import pandas as pd\n"
   ]
  },
  {
   "cell_type": "code",
   "execution_count": 5,
   "metadata": {},
   "outputs": [
    {
     "data": {
      "text/plain": [
       "['../data/xmm/om/P0901200101OMS001TIMESR0000.FIT',\n",
       " '../data/xmm/om/P0901200101OMS002TIMESR0000.FIT',\n",
       " '../data/xmm/om/P0901200101OMS003TIMESR0000.FIT',\n",
       " '../data/xmm/om/P0901200101OMS004TIMESR0000.FIT',\n",
       " '../data/xmm/om/P0901200101OMS005TIMESR0000.FIT',\n",
       " '../data/xmm/om/P0901200101OMS006TIMESR0000.FIT',\n",
       " '../data/xmm/om/P0901200101OMS007TIMESR0000.FIT',\n",
       " '../data/xmm/om/P0901200101OMS008TIMESR0000.FIT']"
      ]
     },
     "execution_count": 5,
     "metadata": {},
     "output_type": "execute_result"
    }
   ],
   "source": [
    "paths = [f\"../data/xmm/om/P0901200101OMS00{n}TIMESR0000.FIT\" for n in range(1,9)]\n",
    "paths"
   ]
  },
  {
   "cell_type": "code",
   "execution_count": 29,
   "metadata": {},
   "outputs": [],
   "source": [
    "timeseries = pd.DataFrame()\n"
   ]
  },
  {
   "cell_type": "code",
   "execution_count": 30,
   "metadata": {},
   "outputs": [
    {
     "name": "stderr",
     "output_type": "stream",
     "text": [
      "/tmp/ipykernel_4955/6711882.py:9: FutureWarning: The frame.append method is deprecated and will be removed from pandas in a future version. Use pandas.concat instead.\n",
      "  timeseries = timeseries.append(df, ignore_index=True)\n"
     ]
    }
   ],
   "source": [
    "for path in paths:\n",
    "    hdr = fits.open(path)[1]\n",
    "    time = hdr.data[\"TIME\"]\n",
    "    rate = hdr.data[\"RATE\"]\n",
    "    err = hdr.data[\"ERROR\"]\n",
    "    df = pd.DataFrame({\"time\":time,\n",
    "                \"rate\":rate,\n",
    "                \"err\":err})    \n",
    "    timeseries = timeseries.append(df, ignore_index=True)"
   ]
  },
  {
   "cell_type": "code",
   "execution_count": 32,
   "metadata": {},
   "outputs": [
    {
     "data": {
      "text/plain": [
       "<ErrorbarContainer object of 3 artists>"
      ]
     },
     "execution_count": 32,
     "metadata": {},
     "output_type": "execute_result"
    },
    {
     "data": {
      "image/png": "[encoded data removed]",
      "text/plain": [
       "<Figure size 500x400 with 1 Axes>"
      ]
     },
     "metadata": {},
     "output_type": "display_data"
    }
   ],
   "source": [
    "plt.errorbar(timeseries.time, timeseries.rate)"
   ]
  },
  {
   "cell_type": "code",
   "execution_count": 24,
   "metadata": {},
   "outputs": [
    {
     "data": {
      "text/html": [
       "<div>\n",
       "<style scoped>\n",
       "    .dataframe tbody tr th:only-of-type {\n",
       "        vertical-align: middle;\n",
       "    }\n",
       "\n",
       "    .dataframe tbody tr th {\n",
       "        vertical-align: top;\n",
       "    }\n",
       "\n",
       "    .dataframe thead th {\n",
       "        text-align: right;\n",
       "    }\n",
       "</style>\n",
       "<table border=\"1\" class=\"dataframe\">\n",
       "  <thead>\n",
       "    <tr style=\"text-align: right;\">\n",
       "      <th></th>\n",
       "      <th>time</th>\n",
       "      <th>rate</th>\n",
       "      <th>err</th>\n",
       "    </tr>\n",
       "  </thead>\n",
       "  <tbody>\n",
       "    <tr>\n",
       "      <th>0</th>\n",
       "      <td>7.760689e+08</td>\n",
       "      <td>1.377691</td>\n",
       "      <td>1.030532</td>\n",
       "    </tr>\n",
       "    <tr>\n",
       "      <th>1</th>\n",
       "      <td>7.760689e+08</td>\n",
       "      <td>2.862681</td>\n",
       "      <td>1.068611</td>\n",
       "    </tr>\n",
       "    <tr>\n",
       "      <th>2</th>\n",
       "      <td>7.760689e+08</td>\n",
       "      <td>2.977624</td>\n",
       "      <td>1.068736</td>\n",
       "    </tr>\n",
       "    <tr>\n",
       "      <th>3</th>\n",
       "      <td>7.760689e+08</td>\n",
       "      <td>3.553882</td>\n",
       "      <td>1.104462</td>\n",
       "    </tr>\n",
       "    <tr>\n",
       "      <th>4</th>\n",
       "      <td>7.760689e+08</td>\n",
       "      <td>2.403934</td>\n",
       "      <td>1.068158</td>\n",
       "    </tr>\n",
       "  </tbody>\n",
       "</table>\n",
       "</div>"
      ],
      "text/plain": [
       "           time      rate       err\n",
       "0  7.760689e+08  1.377691  1.030532\n",
       "1  7.760689e+08  2.862681  1.068611\n",
       "2  7.760689e+08  2.977624  1.068736\n",
       "3  7.760689e+08  3.553882  1.104462\n",
       "4  7.760689e+08  2.403934  1.068158"
      ]
     },
     "execution_count": 24,
     "metadata": {},
     "output_type": "execute_result"
    }
   ],
   "source": [
    "df"
   ]
  },
  {
   "cell_type": "code",
   "execution_count": null,
   "metadata": {},
   "outputs": [],
   "source": []
  }
 ],
 "metadata": {
  "kernelspec": {
   "display_name": "Python 3.8.0 ('python38forall')",
   "language": "python",
   "name": "python3"
  },
  "language_info": {
   "codemirror_mode": {
    "name": "ipython",
    "version": 3
   },
   "file_extension": ".py",
   "mimetype": "text/x-python",
   "name": "python",
   "nbconvert_exporter": "python",
   "pygments_lexer": "ipython3",
   "version": "3.8.0"
  },
  "orig_nbformat": 4,
  "vscode": {
   "interpreter": {
    "hash": "401f26dde39344e91887ebc24992d403e6effeadabbcbed35973b02f426c2565"
   }
  }
 },
 "nbformat": 4,
 "nbformat_minor": 2
}
